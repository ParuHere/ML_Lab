{
 "cells": [
  {
   "cell_type": "code",
   "execution_count": 6,
   "metadata": {},
   "outputs": [
    {
     "name": "stdout",
     "output_type": "stream",
     "text": [
      "The decision tree:\n",
      " outlook\n",
      "  Rain\n",
      "   0\n",
      "  Overcast\n",
      "   0\n",
      "  Sunny\n",
      "   temp\n",
      "    Hot\n",
      "     0\n",
      "    Cool\n",
      "     0\n",
      "    Mild\n",
      "     humidity\n",
      "      High\n",
      "       0\n",
      "      Normal\n",
      "       Yes\n"
     ]
    }
   ],
   "source": [
    "import math\n",
    "import csv\n",
    "     \n",
    "\n",
    "#csv functions\n",
    "def load_csv(filename):\n",
    "  lines = csv.reader(open(filename, \"r\"))\n",
    "  dataset = list(lines)\n",
    "  headers = dataset.pop(0)\n",
    "  return dataset, headers\n",
    "\n",
    "class Node:\n",
    "  def __init__(self, attribute):\n",
    "    self.attribute = attribute\n",
    "    self.children = []\n",
    "    self.answer = ''\n",
    "  \n",
    "def subtables(data, col, delete):\n",
    "  dic = {}\n",
    "  coldata = [row [col] for row in data]\n",
    "  attr = list(set(coldata) )\n",
    "\n",
    "  counts = [0] *len (attr)\n",
    "  r = len(data)\n",
    "  c = len(data[0])\n",
    "  for x in range (len(attr)):\n",
    "    for y in range(r):\n",
    "      if data[y][col] == attr[x]:\n",
    "        counts [x] += 1\n",
    "\n",
    "  for x in range (len(attr)):\n",
    "    dic[attr[x]] = [[0 for i in range(c)] for j in range(counts[x])]\n",
    "    pos=0\n",
    "  for y in range(r) :\n",
    "    if data[y][col] == attr[x]:\n",
    "      if delete:\n",
    "        del data[y][col]\n",
    "      dic[attr[x]][pos] = data[y]\n",
    "      pos += 1\n",
    "  return attr, dic\n",
    "     \n",
    "\n",
    "#id3 and tree functions\n",
    "def entropy (S) :\n",
    "  attr = list(set(S))\n",
    "  if len(attr) == 1:\n",
    "    return 0\n",
    "\n",
    "  counts = [0, 0]\n",
    "  for i in range(2):\n",
    "    counts[i] = sum([1 for x in S if attr[i] == x]) / (len(S) * 1.0)\n",
    "\n",
    "  sums = 0\n",
    "  for cnt in counts:\n",
    "    sums += -1 * cnt * math.log(cnt, 2)\n",
    "  return sums\n",
    "\n",
    "def compute_gain(data, col) :\n",
    "  attr, dic = subtables(data, col, delete=False)\n",
    "  total_size = len(data)\n",
    "  entropies = [0] * len(attr)\n",
    "  ratio = [0] * len(attr)\n",
    "\n",
    "  total_entropy = entropy([row[-1] for row in data])\n",
    "  for x in range(len(attr)) :\n",
    "    ratio[x] = len(dic[attr[x]]) / (total_size * 1.0)\n",
    "    entropies[x] = entropy([row[-1] for row in dic[attr[x]]])\n",
    "    total_entropy -= ratio[x] * entropies[x]\n",
    "  return total_entropy\n",
    "\n",
    "def build_tree(data, features) :\n",
    "  lastcol = [row[-1] for row in data]\n",
    "  if(len(set(lastcol))) == 1:\n",
    "    node = Node('')\n",
    "    node.answer = lastcol[0]\n",
    "    return node\n",
    "  \n",
    "  n = len(data[0]) - 1\n",
    "  gains = [0] * n\n",
    "  for col in range(n):\n",
    "    gains[col] = compute_gain(data, col)\n",
    "    split = gains.index(max(gains))\n",
    "    node = Node(features[split])\n",
    "    fea = features[:split] + features[split + 1:]\n",
    "\n",
    "    attr, dic = subtables(data, split, delete=True)\n",
    "    for x in range(len(attr)):\n",
    "      child = build_tree(dic[attr[x]], fea)\n",
    "      node.children.append((attr[x], child))\n",
    "    return node\n",
    "\n",
    "def print_tree (node, level) :\n",
    "  if node.answer != '':\n",
    "    print(\" \" * level, node.answer)\n",
    "    return\n",
    "\n",
    "  print(\" \" * level, node.attribute)\n",
    "  for value, n in node.children:\n",
    "    print(\" \" * (level + 1), value)\n",
    "    print_tree(n, level + 2)\n",
    "\n",
    "def classify (node, x_test, features):\n",
    "  if node.answer != '':\n",
    "    print(node.answer)\n",
    "    return\n",
    "  pos = features.index(node.attribute)\n",
    "  for value, n in node.children:\n",
    "    if x_test[pos] == value:\n",
    "      classify (n, x_test, features)\n",
    "     \n",
    "\n",
    "#main function\n",
    "dataset, features = load_csv('id3.csv')\n",
    "node1 = build_tree(dataset, features)\n",
    "\n",
    "print(\"The decision tree:\")\n",
    "print_tree(node1, 0 )\n",
    "\n"
   ]
  },
  {
   "cell_type": "code",
   "execution_count": 2,
   "metadata": {},
   "outputs": [
    {
     "name": "stdout",
     "output_type": "stream",
     "text": [
      "{'sepal_length': {'sepal_length': {'petal_length': {'petal_length': {'petal_width': {'petal_width': {'sepal_width': {'sepal_width': None}}, 'sepal_width': {'sepal_width': {'sepal_width': None}}}}, 'petal_width': {'petal_width': {'petal_width': {'sepal_width': {'sepal_width': None}}, 'sepal_width': {'sepal_width': {'sepal_width': None}}}}, 'sepal_width': {'petal_width': {'petal_width': {'sepal_width': {'sepal_width': None}}, 'sepal_width': {'sepal_width': {'sepal_width': None}}}}}}, 'sepal_width': {'petal_length': {'petal_length': {'petal_width': {'petal_width': {'sepal_width': {'sepal_width': None}}, 'sepal_width': {'sepal_width': {'sepal_width': None}}}}, 'petal_width': {'petal_width': {'petal_width': {'sepal_width': {'sepal_width': None}}, 'sepal_width': {'sepal_width': {'sepal_width': None}}}}, 'sepal_width': {'petal_width': {'petal_width': {'sepal_width': {'sepal_width': None}}, 'sepal_width': {'sepal_width': {'sepal_width': None}}}}}}, 'petal_length': {'petal_length': {'petal_length': {'petal_width': {'petal_width': {'sepal_width': {'sepal_width': None}}, 'sepal_width': {'sepal_width': {'sepal_width': None}}}}, 'petal_width': {'petal_width': {'petal_width': {'sepal_width': {'sepal_width': None}}, 'sepal_width': {'sepal_width': {'sepal_width': None}}}}, 'sepal_width': {'petal_width': {'petal_width': {'sepal_width': {'sepal_width': None}}, 'sepal_width': {'sepal_width': {'sepal_width': None}}}}}}, 'petal_width': {'petal_length': {'petal_length': {'petal_width': {'petal_width': {'sepal_width': {'sepal_width': None}}, 'sepal_width': {'sepal_width': {'sepal_width': None}}}}, 'petal_width': {'petal_width': {'petal_width': {'sepal_width': {'sepal_width': None}}, 'sepal_width': {'sepal_width': {'sepal_width': None}}}}, 'sepal_width': {'petal_width': {'petal_width': {'sepal_width': {'sepal_width': None}}, 'sepal_width': {'sepal_width': {'sepal_width': None}}}}}}}}\n"
     ]
    }
   ],
   "source": [
    "\n"
   ]
  },
  {
   "cell_type": "code",
   "execution_count": 3,
   "metadata": {},
   "outputs": [
    {
     "name": "stdout",
     "output_type": "stream",
     "text": [
      "{'\"race/ethnicity\"': {'\"95\"': '\"95\"', '\"42\"': '\"42\"', '\"81\"': '\"81\"', '\"73\"': '\"73\"', '\"22\"': '\"22\"', '\"78\"': '\"78\"', '\"55\"': '\"55\"', '\"65\"': '\"65\"', '\"89\"': '\"89\"', '\"30\"': '\"30\"', '\"96\"': '\"96\"', '\"49\"': '\"49\"', '\"38\"': '\"38\"', '\"41\"': '\"41\"', '\"80\"': '\"80\"', '\"70\"': '\"70\"', '\"79\"': '\"79\"', '\"56\"': '\"56\"', '\"88\"': '\"88\"', '\"97\"': '\"97\"', '\"48\"': '\"48\"', '\"39\"': '\"39\"', '\"64\"': '\"64\"', '\"40\"': '\"40\"', '\"15\"': '\"15\"', '\"87\"': '\"87\"', '\"71\"': '\"71\"', '\"47\"': '\"47\"', '\"76\"': '\"76\"', '\"57\"': '\"57\"', '\"36\"': '\"36\"', '\"86\"': '\"86\"', '\"98\"': '\"98\"', '\"90\"': '\"90\"', '\"67\"': '\"67\"', '\"37\"': '\"37\"', '\"46\"': '\"46\"', '\"50\"': '\"50\"', '\"77\"': '\"77\"', '\"27\"': '\"27\"', '\"58\"': '\"58\"', '\"85\"': '\"85\"', '\"99\"': '\"99\"', '\"66\"': '\"66\"', '\"91\"': '\"91\"', '\"61\"': '\"61\"', '\"34\"': '\"34\"', '\"10\"': '\"10\"', '\"45\"': '\"45\"', '\"84\"': '\"84\"', '\"59\"': '\"59\"', '\"74\"': '\"74\"', '\"51\"': '\"51\"', '\"69\"': '\"69\"', '\"92\"': '\"92\"', '\"35\"': '\"35\"', '\"60\"': '\"60\"', '\"44\"': '\"44\"', '\"19\"': '\"19\"', '\"83\"': '\"83\"', '\"75\"': '\"75\"', '\"52\"': '\"52\"', '\"93\"': '\"93\"', '\"68\"': '\"68\"', '\"63\"': '\"63\"', '\"43\"': '\"43\"', '\"32\"': '\"32\"', '\"100\"': '\"100\"', '\"72\"': '\"72\"', '\"53\"': '\"53\"', '\"82\"': '\"82\"', '\"28\"': '\"28\"', '\"94\"': '\"94\"', '\"54\"': '\"54\"', '\"23\"': '\"23\"', '\"62\"': '\"62\"', '\"33\"': '\"33\"'}}\n"
     ]
    }
   ],
   "source": []
  },
  {
   "cell_type": "code",
   "execution_count": null,
   "metadata": {},
   "outputs": [],
   "source": []
  }
 ],
 "metadata": {
  "kernelspec": {
   "display_name": "Python 3 (ipykernel)",
   "language": "python",
   "name": "python3"
  },
  "language_info": {
   "codemirror_mode": {
    "name": "ipython",
    "version": 3
   },
   "file_extension": ".py",
   "mimetype": "text/x-python",
   "name": "python",
   "nbconvert_exporter": "python",
   "pygments_lexer": "ipython3",
   "version": "3.10.9"
  }
 },
 "nbformat": 4,
 "nbformat_minor": 4
}
