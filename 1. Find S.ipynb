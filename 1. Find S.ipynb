{
 "cells": [
  {
   "cell_type": "code",
   "execution_count": 1,
   "metadata": {},
   "outputs": [
    {
     "name": "stdout",
     "output_type": "stream",
     "text": [
      "Final Hypothesis: ['?', 'Sunny', 'Cold', 'Yes', 'High', 'Strong']\n"
     ]
    }
   ],
   "source": [
    "import numpy as np\n",
    "\n",
    "def load_dataset(filename):\n",
    "    with open(filename, 'r') as file:\n",
    "        lines = file.readlines()\n",
    "    dataset = [line.strip().split(',') for line in lines]\n",
    "    attributes = np.array(dataset[0][:-1])  # Exclude the last column (target variable)\n",
    "    dataset = np.array(dataset[:6])\n",
    "    target = dataset[:, -1]\n",
    "    data = dataset[:, :-1]\n",
    "    return data, attributes, target\n",
    "\n",
    "def find_s(data, target):\n",
    "    n = data.shape[1]  # Number of attributes\n",
    "    specific_hypothesis = ['?' for _ in range(n)]  # Initialize specific hypothesis with '?'\n",
    "\n",
    "    for instance, goal in zip(data, target):\n",
    "        if goal == 'Yes':  # Positive instance\n",
    "            for i in range(n):\n",
    "                if specific_hypothesis[i] == '?':\n",
    "                    specific_hypothesis[i] = instance[i]\n",
    "                elif specific_hypothesis[i] != instance[i]:\n",
    "                    specific_hypothesis[i] = '?'\n",
    "\n",
    "    return specific_hypothesis\n",
    "\n",
    "# Load dataset\n",
    "data, attributes, target = load_dataset('findS.csv')\n",
    "\n",
    "# Apply Find-S algorithm\n",
    "specific_hypothesis = find_s(data, target)\n",
    "\n",
    "# Print the most specific hypothesis\n",
    "print(\"Final Hypothesis:\", specific_hypothesis)\n"
   ]
  },
  {
   "cell_type": "code",
   "execution_count": null,
   "metadata": {},
   "outputs": [],
   "source": []
  }
 ],
 "metadata": {
  "kernelspec": {
   "display_name": "Python 3 (ipykernel)",
   "language": "python",
   "name": "python3"
  },
  "language_info": {
   "codemirror_mode": {
    "name": "ipython",
    "version": 3
   },
   "file_extension": ".py",
   "mimetype": "text/x-python",
   "name": "python",
   "nbconvert_exporter": "python",
   "pygments_lexer": "ipython3",
   "version": "3.10.9"
  }
 },
 "nbformat": 4,
 "nbformat_minor": 4
}
